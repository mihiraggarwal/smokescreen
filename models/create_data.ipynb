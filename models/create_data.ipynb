{
 "cells": [
  {
   "cell_type": "code",
   "execution_count": 1,
   "id": "422c8958",
   "metadata": {},
   "outputs": [],
   "source": [
    "import random\n",
    "import numpy as np\n",
    "import pandas as pd"
   ]
  },
  {
   "cell_type": "code",
   "execution_count": 2,
   "id": "15e7f369",
   "metadata": {},
   "outputs": [],
   "source": [
    "df = pd.read_csv('data/viirs-archive.csv')"
   ]
  },
  {
   "cell_type": "code",
   "execution_count": 3,
   "id": "97323664",
   "metadata": {},
   "outputs": [],
   "source": [
    "df = df[df['confidence'].isin(['h', 'n'])]"
   ]
  },
  {
   "cell_type": "code",
   "execution_count": 4,
   "id": "ebc03709",
   "metadata": {},
   "outputs": [
    {
     "data": {
      "text/plain": [
       "(3453287, 15)"
      ]
     },
     "execution_count": 4,
     "metadata": {},
     "output_type": "execute_result"
    }
   ],
   "source": [
    "df.shape"
   ]
  },
  {
   "cell_type": "code",
   "execution_count": 5,
   "id": "d53a46e6",
   "metadata": {},
   "outputs": [],
   "source": [
    "df = df.drop_duplicates(subset=['latitude', 'longitude', 'acq_date', 'acq_time'])"
   ]
  },
  {
   "cell_type": "code",
   "execution_count": 6,
   "id": "bf421b6e",
   "metadata": {},
   "outputs": [
    {
     "data": {
      "text/plain": [
       "Index(['latitude', 'longitude', 'brightness', 'scan', 'track', 'acq_date',\n",
       "       'acq_time', 'satellite', 'instrument', 'confidence', 'version',\n",
       "       'bright_t31', 'frp', 'daynight', 'type'],\n",
       "      dtype='object')"
      ]
     },
     "execution_count": 6,
     "metadata": {},
     "output_type": "execute_result"
    }
   ],
   "source": [
    "df.columns"
   ]
  },
  {
   "cell_type": "code",
   "execution_count": 7,
   "id": "1c11ef37",
   "metadata": {},
   "outputs": [
    {
     "data": {
      "text/plain": [
       "type\n",
       "0    3075759\n",
       "2     362885\n",
       "3      14457\n",
       "1        185\n",
       "Name: count, dtype: int64"
      ]
     },
     "execution_count": 7,
     "metadata": {},
     "output_type": "execute_result"
    }
   ],
   "source": [
    "df['type'].value_counts()"
   ]
  },
  {
   "cell_type": "code",
   "execution_count": 8,
   "id": "e78a607b",
   "metadata": {},
   "outputs": [],
   "source": [
    "model_data = df[['latitude', 'longitude', 'acq_date', 'daynight']]"
   ]
  },
  {
   "cell_type": "code",
   "execution_count": 9,
   "id": "08ef14ec",
   "metadata": {},
   "outputs": [
    {
     "name": "stderr",
     "output_type": "stream",
     "text": [
      "C:\\Users\\Mihir\\AppData\\Local\\Temp\\ipykernel_30632\\2276045143.py:1: SettingWithCopyWarning: \n",
      "A value is trying to be set on a copy of a slice from a DataFrame.\n",
      "Try using .loc[row_indexer,col_indexer] = value instead\n",
      "\n",
      "See the caveats in the documentation: https://pandas.pydata.org/pandas-docs/stable/user_guide/indexing.html#returning-a-view-versus-a-copy\n",
      "  model_data['acq_date'] = pd.to_datetime(df['acq_date'])\n"
     ]
    }
   ],
   "source": [
    "model_data['acq_date'] = pd.to_datetime(df['acq_date'])"
   ]
  },
  {
   "cell_type": "code",
   "execution_count": 10,
   "id": "80f5467e",
   "metadata": {},
   "outputs": [
    {
     "name": "stderr",
     "output_type": "stream",
     "text": [
      "C:\\Users\\Mihir\\AppData\\Local\\Temp\\ipykernel_30632\\3102797570.py:1: SettingWithCopyWarning: \n",
      "A value is trying to be set on a copy of a slice from a DataFrame.\n",
      "Try using .loc[row_indexer,col_indexer] = value instead\n",
      "\n",
      "See the caveats in the documentation: https://pandas.pydata.org/pandas-docs/stable/user_guide/indexing.html#returning-a-view-versus-a-copy\n",
      "  model_data['daynight'] = model_data['daynight'].map({'D': 0, 'N': 1})\n"
     ]
    }
   ],
   "source": [
    "model_data['daynight'] = model_data['daynight'].map({'D': 0, 'N': 1})"
   ]
  },
  {
   "cell_type": "code",
   "execution_count": 11,
   "id": "5706fc4d",
   "metadata": {},
   "outputs": [],
   "source": [
    "model_data = model_data.rename(columns={\n",
    "    'latitude': 'lat',\n",
    "    'longitude': 'lon',\n",
    "    'acq_date': 'date',\n",
    "    'daynight': 'night'\n",
    "})"
   ]
  },
  {
   "cell_type": "code",
   "execution_count": 12,
   "id": "928c0464",
   "metadata": {},
   "outputs": [],
   "source": [
    "model_data = model_data.sample(n=100000, random_state=42)"
   ]
  },
  {
   "cell_type": "code",
   "execution_count": 14,
   "id": "60029323",
   "metadata": {},
   "outputs": [],
   "source": [
    "model_data['label'] = 1"
   ]
  },
  {
   "cell_type": "code",
   "execution_count": 16,
   "id": "18134ca3",
   "metadata": {},
   "outputs": [
    {
     "data": {
      "text/html": [
       "<div>\n",
       "<style scoped>\n",
       "    .dataframe tbody tr th:only-of-type {\n",
       "        vertical-align: middle;\n",
       "    }\n",
       "\n",
       "    .dataframe tbody tr th {\n",
       "        vertical-align: top;\n",
       "    }\n",
       "\n",
       "    .dataframe thead th {\n",
       "        text-align: right;\n",
       "    }\n",
       "</style>\n",
       "<table border=\"1\" class=\"dataframe\">\n",
       "  <thead>\n",
       "    <tr style=\"text-align: right;\">\n",
       "      <th></th>\n",
       "      <th>lat</th>\n",
       "      <th>lon</th>\n",
       "      <th>date</th>\n",
       "      <th>night</th>\n",
       "      <th>label</th>\n",
       "    </tr>\n",
       "  </thead>\n",
       "  <tbody>\n",
       "    <tr>\n",
       "      <th>2650995</th>\n",
       "      <td>18.19149</td>\n",
       "      <td>95.55330</td>\n",
       "      <td>2024-03-25</td>\n",
       "      <td>0</td>\n",
       "      <td>1</td>\n",
       "    </tr>\n",
       "    <tr>\n",
       "      <th>1571830</th>\n",
       "      <td>15.54539</td>\n",
       "      <td>102.95925</td>\n",
       "      <td>2023-04-21</td>\n",
       "      <td>0</td>\n",
       "      <td>1</td>\n",
       "    </tr>\n",
       "    <tr>\n",
       "      <th>2574488</th>\n",
       "      <td>9.78367</td>\n",
       "      <td>105.51168</td>\n",
       "      <td>2024-03-17</td>\n",
       "      <td>0</td>\n",
       "      <td>1</td>\n",
       "    </tr>\n",
       "    <tr>\n",
       "      <th>437807</th>\n",
       "      <td>22.77363</td>\n",
       "      <td>96.01568</td>\n",
       "      <td>2023-02-07</td>\n",
       "      <td>0</td>\n",
       "      <td>1</td>\n",
       "    </tr>\n",
       "    <tr>\n",
       "      <th>417287</th>\n",
       "      <td>20.69721</td>\n",
       "      <td>94.09389</td>\n",
       "      <td>2023-02-05</td>\n",
       "      <td>1</td>\n",
       "      <td>1</td>\n",
       "    </tr>\n",
       "  </tbody>\n",
       "</table>\n",
       "</div>"
      ],
      "text/plain": [
       "              lat        lon       date  night  label\n",
       "2650995  18.19149   95.55330 2024-03-25      0      1\n",
       "1571830  15.54539  102.95925 2023-04-21      0      1\n",
       "2574488   9.78367  105.51168 2024-03-17      0      1\n",
       "437807   22.77363   96.01568 2023-02-07      0      1\n",
       "417287   20.69721   94.09389 2023-02-05      1      1"
      ]
     },
     "execution_count": 16,
     "metadata": {},
     "output_type": "execute_result"
    }
   ],
   "source": [
    "model_data.head()"
   ]
  },
  {
   "cell_type": "code",
   "execution_count": 17,
   "id": "1959c694",
   "metadata": {},
   "outputs": [],
   "source": [
    "# for fast lookup\n",
    "fire_keys = set(model_data.apply(lambda row: f\"{round(row.lat, 3)}_{round(row.lon, 3)}_{row.date}\", axis=1))"
   ]
  },
  {
   "cell_type": "code",
   "execution_count": null,
   "id": "6350a63b",
   "metadata": {},
   "outputs": [],
   "source": [
    "def generate_negative_sample(lat, lon, date, night, radius_km=50):\n",
    "    attempts = 0\n",
    "    while attempts < 10:\n",
    "        # random bearing + distance\n",
    "        angle = random.uniform(0, 360)\n",
    "        distance_km = random.uniform(10, radius_km)\n",
    "\n",
    "        # Rough earth radius projection\n",
    "        delta_lat = distance_km / 111  # approx 1 deg = 111km\n",
    "        delta_lon = delta_lat / np.cos(np.radians(lat))\n",
    "\n",
    "        new_lat = lat + delta_lat * np.cos(np.radians(angle))\n",
    "        new_lon = lon + delta_lon * np.sin(np.radians(angle))\n",
    "\n",
    "        key = f\"{round(new_lat, 3)}_{round(new_lon, 3)}_{date}\"\n",
    "        if key not in fire_keys:\n",
    "            return {'lat': new_lat, 'lon': new_lon, 'date': date, 'night': night, 'label': 0}\n",
    "        attempts += 1\n",
    "    return None\n",
    "\n",
    "# How many negative samples per fire point\n",
    "NEG_PER_POS = 2\n",
    "\n",
    "# Generate negatives\n",
    "negatives = []\n",
    "for _, row in model_data.iterrows():\n",
    "    for _ in range(NEG_PER_POS):\n",
    "        neg = generate_negative_sample(row.lat, row.lon, row.date, row.night)\n",
    "        if neg:\n",
    "            negatives.append(neg)\n",
    "\n",
    "neg_df = pd.DataFrame(negatives)\n"
   ]
  },
  {
   "cell_type": "code",
   "execution_count": 26,
   "id": "dc7c8725",
   "metadata": {},
   "outputs": [
    {
     "data": {
      "text/html": [
       "<div>\n",
       "<style scoped>\n",
       "    .dataframe tbody tr th:only-of-type {\n",
       "        vertical-align: middle;\n",
       "    }\n",
       "\n",
       "    .dataframe tbody tr th {\n",
       "        vertical-align: top;\n",
       "    }\n",
       "\n",
       "    .dataframe thead th {\n",
       "        text-align: right;\n",
       "    }\n",
       "</style>\n",
       "<table border=\"1\" class=\"dataframe\">\n",
       "  <thead>\n",
       "    <tr style=\"text-align: right;\">\n",
       "      <th></th>\n",
       "      <th>lat</th>\n",
       "      <th>lon</th>\n",
       "      <th>date</th>\n",
       "      <th>night</th>\n",
       "      <th>label</th>\n",
       "    </tr>\n",
       "  </thead>\n",
       "  <tbody>\n",
       "    <tr>\n",
       "      <th>0</th>\n",
       "      <td>18.080140</td>\n",
       "      <td>95.549437</td>\n",
       "      <td>2024-03-25</td>\n",
       "      <td>0</td>\n",
       "      <td>0</td>\n",
       "    </tr>\n",
       "    <tr>\n",
       "      <th>1</th>\n",
       "      <td>18.084024</td>\n",
       "      <td>95.455099</td>\n",
       "      <td>2024-03-25</td>\n",
       "      <td>0</td>\n",
       "      <td>0</td>\n",
       "    </tr>\n",
       "    <tr>\n",
       "      <th>2</th>\n",
       "      <td>15.268696</td>\n",
       "      <td>103.311455</td>\n",
       "      <td>2023-04-21</td>\n",
       "      <td>0</td>\n",
       "      <td>0</td>\n",
       "    </tr>\n",
       "    <tr>\n",
       "      <th>3</th>\n",
       "      <td>15.688964</td>\n",
       "      <td>103.266818</td>\n",
       "      <td>2023-04-21</td>\n",
       "      <td>0</td>\n",
       "      <td>0</td>\n",
       "    </tr>\n",
       "    <tr>\n",
       "      <th>4</th>\n",
       "      <td>10.056063</td>\n",
       "      <td>105.642383</td>\n",
       "      <td>2024-03-17</td>\n",
       "      <td>0</td>\n",
       "      <td>0</td>\n",
       "    </tr>\n",
       "    <tr>\n",
       "      <th>...</th>\n",
       "      <td>...</td>\n",
       "      <td>...</td>\n",
       "      <td>...</td>\n",
       "      <td>...</td>\n",
       "      <td>...</td>\n",
       "    </tr>\n",
       "    <tr>\n",
       "      <th>199995</th>\n",
       "      <td>23.927267</td>\n",
       "      <td>80.016759</td>\n",
       "      <td>2023-11-23</td>\n",
       "      <td>0</td>\n",
       "      <td>0</td>\n",
       "    </tr>\n",
       "    <tr>\n",
       "      <th>199996</th>\n",
       "      <td>15.545627</td>\n",
       "      <td>100.924812</td>\n",
       "      <td>2025-01-12</td>\n",
       "      <td>0</td>\n",
       "      <td>0</td>\n",
       "    </tr>\n",
       "    <tr>\n",
       "      <th>199997</th>\n",
       "      <td>15.673956</td>\n",
       "      <td>101.383327</td>\n",
       "      <td>2025-01-12</td>\n",
       "      <td>0</td>\n",
       "      <td>0</td>\n",
       "    </tr>\n",
       "    <tr>\n",
       "      <th>199998</th>\n",
       "      <td>29.319594</td>\n",
       "      <td>82.439699</td>\n",
       "      <td>2025-01-09</td>\n",
       "      <td>1</td>\n",
       "      <td>0</td>\n",
       "    </tr>\n",
       "    <tr>\n",
       "      <th>199999</th>\n",
       "      <td>29.327615</td>\n",
       "      <td>82.366844</td>\n",
       "      <td>2025-01-09</td>\n",
       "      <td>1</td>\n",
       "      <td>0</td>\n",
       "    </tr>\n",
       "  </tbody>\n",
       "</table>\n",
       "<p>200000 rows × 5 columns</p>\n",
       "</div>"
      ],
      "text/plain": [
       "              lat         lon       date  night  label\n",
       "0       18.080140   95.549437 2024-03-25      0      0\n",
       "1       18.084024   95.455099 2024-03-25      0      0\n",
       "2       15.268696  103.311455 2023-04-21      0      0\n",
       "3       15.688964  103.266818 2023-04-21      0      0\n",
       "4       10.056063  105.642383 2024-03-17      0      0\n",
       "...           ...         ...        ...    ...    ...\n",
       "199995  23.927267   80.016759 2023-11-23      0      0\n",
       "199996  15.545627  100.924812 2025-01-12      0      0\n",
       "199997  15.673956  101.383327 2025-01-12      0      0\n",
       "199998  29.319594   82.439699 2025-01-09      1      0\n",
       "199999  29.327615   82.366844 2025-01-09      1      0\n",
       "\n",
       "[200000 rows x 5 columns]"
      ]
     },
     "execution_count": 26,
     "metadata": {},
     "output_type": "execute_result"
    }
   ],
   "source": [
    "neg_df"
   ]
  },
  {
   "cell_type": "code",
   "execution_count": 27,
   "id": "081ebc30",
   "metadata": {},
   "outputs": [],
   "source": [
    "combined = pd.concat([model_data, neg_df], ignore_index=True)"
   ]
  },
  {
   "cell_type": "code",
   "execution_count": 30,
   "id": "fb2f5a20",
   "metadata": {},
   "outputs": [],
   "source": [
    "combined = combined.sample(frac=1, random_state=42).reset_index(drop=True)"
   ]
  },
  {
   "cell_type": "code",
   "execution_count": null,
   "id": "d6e463f3",
   "metadata": {},
   "outputs": [],
   "source": [
    "combined = combined.rename(columns={\n",
    "    'lat': 'latitude',\n",
    "    'lon': 'longitude',\n",
    "})"
   ]
  },
  {
   "cell_type": "code",
   "execution_count": 31,
   "id": "7e52279e",
   "metadata": {},
   "outputs": [],
   "source": [
    "combined.to_csv('data/viirs-model-data.csv', index=False)"
   ]
  },
  {
   "cell_type": "code",
   "execution_count": null,
   "id": "0f25911e",
   "metadata": {},
   "outputs": [],
   "source": []
  }
 ],
 "metadata": {
  "kernelspec": {
   "display_name": "Python 3",
   "language": "python",
   "name": "python3"
  },
  "language_info": {
   "codemirror_mode": {
    "name": "ipython",
    "version": 3
   },
   "file_extension": ".py",
   "mimetype": "text/x-python",
   "name": "python",
   "nbconvert_exporter": "python",
   "pygments_lexer": "ipython3",
   "version": "3.13.5"
  }
 },
 "nbformat": 4,
 "nbformat_minor": 5
}
